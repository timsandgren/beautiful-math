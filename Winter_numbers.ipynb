{
  "nbformat": 4,
  "nbformat_minor": 0,
  "metadata": {
    "colab": {
      "provenance": [],
      "authorship_tag": "ABX9TyOEBZVlL0JGTfJYLUpC2LlZ",
      "include_colab_link": true
    },
    "kernelspec": {
      "name": "python3",
      "display_name": "Python 3"
    },
    "language_info": {
      "name": "python"
    }
  },
  "cells": [
    {
      "cell_type": "markdown",
      "metadata": {
        "id": "view-in-github",
        "colab_type": "text"
      },
      "source": [
        "<a href=\"https://colab.research.google.com/github/timsandgren/beautiful-math/blob/main/Winter_numbers.ipynb\" target=\"_parent\"><img src=\"https://colab.research.google.com/assets/colab-badge.svg\" alt=\"Open In Colab\"/></a>"
      ]
    },
    {
      "cell_type": "markdown",
      "source": [
        "Dan Winter has proposed an equation which describes how the Planck lengts multiplied by powers of the Golden ratio gives results that correspond to sizes of natural objects.\n",
        "\n",
        "http://www.fractalfield.com/conjugategravity/"
      ],
      "metadata": {
        "id": "5GTKsDCI93RM"
      }
    },
    {
      "cell_type": "code",
      "execution_count": 1,
      "metadata": {
        "id": "BVY46z8SmX0v"
      },
      "outputs": [],
      "source": [
        "#using Planck´s length\n",
        "\n",
        "from decimal import Decimal, getcontext\n",
        "\n",
        "getcontext().prec = 1024\n",
        "\n",
        "golden_ratio = Decimal((Decimal('1.0') + Decimal(5).sqrt()) / Decimal('2.0'))\n",
        "plank_length = Decimal('1.61625518e-35')\n",
        "\n",
        "Winter_Numbers = []  # initialize an empty array for storing the results\n",
        "\n",
        "n = 1\n",
        "\n",
        "for n in range(1642):\n",
        "    value = golden_ratio ** n * plank_length\n",
        "    Winter_Numbers.append((n, float(value)))  # append the tuple of (n, value) to the array\n",
        "    n += 1\n",
        "\n",
        "with open('Winter_Numbers.txt', 'w') as f:\n",
        "    for pair in Winter_Numbers:\n",
        "        f.write(str(pair[0]) + '\\t' + str(pair[1]) + '\\n')"
      ]
    },
    {
      "cell_type": "code",
      "source": [
        "from google.colab import files\n",
        "\n",
        "files.download('Winter_Numbers.txt')"
      ],
      "metadata": {
        "colab": {
          "base_uri": "https://localhost:8080/",
          "height": 17
        },
        "id": "7w6ft7X9wP8Q",
        "outputId": "3b51478a-fdd1-4862-d1aa-894c85a12a91"
      },
      "execution_count": 16,
      "outputs": [
        {
          "output_type": "display_data",
          "data": {
            "text/plain": [
              "<IPython.core.display.Javascript object>"
            ],
            "application/javascript": [
              "\n",
              "    async function download(id, filename, size) {\n",
              "      if (!google.colab.kernel.accessAllowed) {\n",
              "        return;\n",
              "      }\n",
              "      const div = document.createElement('div');\n",
              "      const label = document.createElement('label');\n",
              "      label.textContent = `Downloading \"${filename}\": `;\n",
              "      div.appendChild(label);\n",
              "      const progress = document.createElement('progress');\n",
              "      progress.max = size;\n",
              "      div.appendChild(progress);\n",
              "      document.body.appendChild(div);\n",
              "\n",
              "      const buffers = [];\n",
              "      let downloaded = 0;\n",
              "\n",
              "      const channel = await google.colab.kernel.comms.open(id);\n",
              "      // Send a message to notify the kernel that we're ready.\n",
              "      channel.send({})\n",
              "\n",
              "      for await (const message of channel.messages) {\n",
              "        // Send a message to notify the kernel that we're ready.\n",
              "        channel.send({})\n",
              "        if (message.buffers) {\n",
              "          for (const buffer of message.buffers) {\n",
              "            buffers.push(buffer);\n",
              "            downloaded += buffer.byteLength;\n",
              "            progress.value = downloaded;\n",
              "          }\n",
              "        }\n",
              "      }\n",
              "      const blob = new Blob(buffers, {type: 'application/binary'});\n",
              "      const a = document.createElement('a');\n",
              "      a.href = window.URL.createObjectURL(blob);\n",
              "      a.download = filename;\n",
              "      div.appendChild(a);\n",
              "      a.click();\n",
              "      div.remove();\n",
              "    }\n",
              "  "
            ]
          },
          "metadata": {}
        },
        {
          "output_type": "display_data",
          "data": {
            "text/plain": [
              "<IPython.core.display.Javascript object>"
            ],
            "application/javascript": [
              "download(\"download_8434f4ea-5e32-4195-8e63-1735f83a760c\", \"Winter_Numbers.txt\", 44508)"
            ]
          },
          "metadata": {}
        }
      ]
    },
    {
      "cell_type": "code",
      "source": [
        "#using Planck´s  time\n",
        "\n",
        "from decimal import Decimal, getcontext\n",
        "\n",
        "getcontext().prec = 1024\n",
        "\n",
        "golden_ratio = Decimal((Decimal('1.0') + Decimal(5).sqrt()) / Decimal('2.0'))\n",
        "plank_time = Decimal('5.391247e-44')\n",
        "\n",
        "Winter_Numbers = []  # initialize an empty array for storing the results\n",
        "\n",
        "n = 1\n",
        "\n",
        "for n in range(1642):\n",
        "    value = golden_ratio ** n * plank_time\n",
        "    Winter_Numbers.append((n, float(value)))  # append the tuple of (n, value) to the array\n",
        "    n += 1\n",
        "\n",
        "with open('Winter_Numbers_time.txt', 'w') as f:\n",
        "    for pair in Winter_Numbers:\n",
        "        f.write(str(pair[0]) + '\\t' + str(pair[1]) + '\\n')"
      ],
      "metadata": {
        "id": "jU4JHpH6hEVn"
      },
      "execution_count": 2,
      "outputs": []
    },
    {
      "cell_type": "code",
      "source": [
        "from google.colab import files\n",
        "\n",
        "files.download('Winter_Numbers_time.txt')"
      ],
      "metadata": {
        "colab": {
          "base_uri": "https://localhost:8080/",
          "height": 17
        },
        "id": "d1X2QlT6iGwW",
        "outputId": "fc689ff5-4dd4-4ef1-85e8-88b926c4d36f"
      },
      "execution_count": 3,
      "outputs": [
        {
          "output_type": "display_data",
          "data": {
            "text/plain": [
              "<IPython.core.display.Javascript object>"
            ],
            "application/javascript": [
              "\n",
              "    async function download(id, filename, size) {\n",
              "      if (!google.colab.kernel.accessAllowed) {\n",
              "        return;\n",
              "      }\n",
              "      const div = document.createElement('div');\n",
              "      const label = document.createElement('label');\n",
              "      label.textContent = `Downloading \"${filename}\": `;\n",
              "      div.appendChild(label);\n",
              "      const progress = document.createElement('progress');\n",
              "      progress.max = size;\n",
              "      div.appendChild(progress);\n",
              "      document.body.appendChild(div);\n",
              "\n",
              "      const buffers = [];\n",
              "      let downloaded = 0;\n",
              "\n",
              "      const channel = await google.colab.kernel.comms.open(id);\n",
              "      // Send a message to notify the kernel that we're ready.\n",
              "      channel.send({})\n",
              "\n",
              "      for await (const message of channel.messages) {\n",
              "        // Send a message to notify the kernel that we're ready.\n",
              "        channel.send({})\n",
              "        if (message.buffers) {\n",
              "          for (const buffer of message.buffers) {\n",
              "            buffers.push(buffer);\n",
              "            downloaded += buffer.byteLength;\n",
              "            progress.value = downloaded;\n",
              "          }\n",
              "        }\n",
              "      }\n",
              "      const blob = new Blob(buffers, {type: 'application/binary'});\n",
              "      const a = document.createElement('a');\n",
              "      a.href = window.URL.createObjectURL(blob);\n",
              "      a.download = filename;\n",
              "      div.appendChild(a);\n",
              "      a.click();\n",
              "      div.remove();\n",
              "    }\n",
              "  "
            ]
          },
          "metadata": {}
        },
        {
          "output_type": "display_data",
          "data": {
            "text/plain": [
              "<IPython.core.display.Javascript object>"
            ],
            "application/javascript": [
              "download(\"download_943997f1-e227-4015-bd4e-aba1a3f47e08\", \"Winter_Numbers_time.txt\", 44446)"
            ]
          },
          "metadata": {}
        }
      ]
    },
    {
      "cell_type": "code",
      "source": [
        "#Days in a venus year n=240 according to http://www.fractalfield.com/conjugategravity/\n",
        "\n",
        "\n",
        "\n",
        "seconds = 7739677  \n",
        "days = seconds // 86400\n",
        "print(\"The number of days in a Venus year is\", seconds, \"seconds is:\", days)\n",
        "\n",
        "#Days in a earth year n=240 according to http://www.fractalfield.com/conjugategravity/\n",
        "\n",
        "\n",
        "seconds = 12523061\n",
        "days = seconds // 86400\n",
        "\n",
        "print(\"The number of days in an Earth year is\", seconds, \"seconds is:\", days)\n",
        "\n"
      ],
      "metadata": {
        "colab": {
          "base_uri": "https://localhost:8080/"
        },
        "id": "XsaYvzSMkbcj",
        "outputId": "ce73b68d-edd2-4f4a-fd57-b1d7e594be5c"
      },
      "execution_count": 11,
      "outputs": [
        {
          "output_type": "stream",
          "name": "stdout",
          "text": [
            "The number of days in a Venus year is 7739677 seconds is: 89\n",
            "The number of days in an Earth year is 12523061 seconds is: 144\n"
          ]
        }
      ]
    }
  ]
}